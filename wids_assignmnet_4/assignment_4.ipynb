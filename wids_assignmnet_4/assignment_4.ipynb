{
  "nbformat": 4,
  "nbformat_minor": 0,
  "metadata": {
    "colab": {
      "provenance": []
    },
    "kernelspec": {
      "name": "python3",
      "display_name": "Python 3"
    },
    "language_info": {
      "name": "python"
    }
  },
  "cells": [
    {
      "cell_type": "code",
      "execution_count": null,
      "metadata": {
        "id": "m3BsnIl_A19G"
      },
      "outputs": [],
      "source": [
        "import numpy as np\n",
        "import pandas as pd\n",
        "import matplotlib.pyplot as plt\n",
        "from sklearn.preprocessing import MinMaxScaler\n",
        "from keras.models import Sequential\n",
        "from keras.layers import Dense, LSTM"
      ]
    },
    {
      "cell_type": "code",
      "source": [
        "df=pd.read_csv(\"/content/drive/MyDrive/LSTM_train_week4.csv\")"
      ],
      "metadata": {
        "id": "itpsoGniwtEZ"
      },
      "execution_count": null,
      "outputs": []
    },
    {
      "cell_type": "code",
      "source": [
        "df.head()\n"
      ],
      "metadata": {
        "colab": {
          "base_uri": "https://localhost:8080/",
          "height": 206
        },
        "id": "pBmA6paQxoNF",
        "outputId": "c254b967-1755-4981-a89c-a1a3d7a0a9fc"
      },
      "execution_count": null,
      "outputs": [
        {
          "output_type": "execute_result",
          "data": {
            "text/plain": [
              "       Date  Price   Open   High    Low   Volume    Chg%  Unnamed: 7  \\\n",
              "0  4-Jan-21  47.62  48.40  49.83  47.18  528.53K  -1.85%         NaN   \n",
              "1  5-Jan-21  49.93  47.38  50.20  47.24  643.19K   4.85%         NaN   \n",
              "2  6-Jan-21  50.63  49.82  50.94  49.48  509.37K   1.40%         NaN   \n",
              "3  7-Jan-21  50.83  50.53  51.28  50.39  369.29K   0.40%         NaN   \n",
              "4  8-Jan-21  52.24  50.93  52.75  50.81  499.42K   2.77%         NaN   \n",
              "\n",
              "   Unnamed: 8  Unnamed: 9  Unnamed: 10  Unnamed: 11  Unnamed: 12  Unnamed: 13  \\\n",
              "0         NaN         NaN          NaN          NaN          NaN          NaN   \n",
              "1         NaN         NaN          NaN          NaN          NaN          NaN   \n",
              "2         NaN         NaN          NaN          NaN          NaN          NaN   \n",
              "3         NaN         NaN          NaN          NaN          NaN          NaN   \n",
              "4         NaN         NaN          NaN          NaN          NaN          NaN   \n",
              "\n",
              "   Unnamed: 14  \n",
              "0          NaN  \n",
              "1          NaN  \n",
              "2          NaN  \n",
              "3          NaN  \n",
              "4          NaN  "
            ],
            "text/html": [
              "\n",
              "  <div id=\"df-911214f7-d768-4a1e-8e17-a74977e2a63e\">\n",
              "    <div class=\"colab-df-container\">\n",
              "      <div>\n",
              "<style scoped>\n",
              "    .dataframe tbody tr th:only-of-type {\n",
              "        vertical-align: middle;\n",
              "    }\n",
              "\n",
              "    .dataframe tbody tr th {\n",
              "        vertical-align: top;\n",
              "    }\n",
              "\n",
              "    .dataframe thead th {\n",
              "        text-align: right;\n",
              "    }\n",
              "</style>\n",
              "<table border=\"1\" class=\"dataframe\">\n",
              "  <thead>\n",
              "    <tr style=\"text-align: right;\">\n",
              "      <th></th>\n",
              "      <th>Date</th>\n",
              "      <th>Price</th>\n",
              "      <th>Open</th>\n",
              "      <th>High</th>\n",
              "      <th>Low</th>\n",
              "      <th>Volume</th>\n",
              "      <th>Chg%</th>\n",
              "      <th>Unnamed: 7</th>\n",
              "      <th>Unnamed: 8</th>\n",
              "      <th>Unnamed: 9</th>\n",
              "      <th>Unnamed: 10</th>\n",
              "      <th>Unnamed: 11</th>\n",
              "      <th>Unnamed: 12</th>\n",
              "      <th>Unnamed: 13</th>\n",
              "      <th>Unnamed: 14</th>\n",
              "    </tr>\n",
              "  </thead>\n",
              "  <tbody>\n",
              "    <tr>\n",
              "      <th>0</th>\n",
              "      <td>4-Jan-21</td>\n",
              "      <td>47.62</td>\n",
              "      <td>48.40</td>\n",
              "      <td>49.83</td>\n",
              "      <td>47.18</td>\n",
              "      <td>528.53K</td>\n",
              "      <td>-1.85%</td>\n",
              "      <td>NaN</td>\n",
              "      <td>NaN</td>\n",
              "      <td>NaN</td>\n",
              "      <td>NaN</td>\n",
              "      <td>NaN</td>\n",
              "      <td>NaN</td>\n",
              "      <td>NaN</td>\n",
              "      <td>NaN</td>\n",
              "    </tr>\n",
              "    <tr>\n",
              "      <th>1</th>\n",
              "      <td>5-Jan-21</td>\n",
              "      <td>49.93</td>\n",
              "      <td>47.38</td>\n",
              "      <td>50.20</td>\n",
              "      <td>47.24</td>\n",
              "      <td>643.19K</td>\n",
              "      <td>4.85%</td>\n",
              "      <td>NaN</td>\n",
              "      <td>NaN</td>\n",
              "      <td>NaN</td>\n",
              "      <td>NaN</td>\n",
              "      <td>NaN</td>\n",
              "      <td>NaN</td>\n",
              "      <td>NaN</td>\n",
              "      <td>NaN</td>\n",
              "    </tr>\n",
              "    <tr>\n",
              "      <th>2</th>\n",
              "      <td>6-Jan-21</td>\n",
              "      <td>50.63</td>\n",
              "      <td>49.82</td>\n",
              "      <td>50.94</td>\n",
              "      <td>49.48</td>\n",
              "      <td>509.37K</td>\n",
              "      <td>1.40%</td>\n",
              "      <td>NaN</td>\n",
              "      <td>NaN</td>\n",
              "      <td>NaN</td>\n",
              "      <td>NaN</td>\n",
              "      <td>NaN</td>\n",
              "      <td>NaN</td>\n",
              "      <td>NaN</td>\n",
              "      <td>NaN</td>\n",
              "    </tr>\n",
              "    <tr>\n",
              "      <th>3</th>\n",
              "      <td>7-Jan-21</td>\n",
              "      <td>50.83</td>\n",
              "      <td>50.53</td>\n",
              "      <td>51.28</td>\n",
              "      <td>50.39</td>\n",
              "      <td>369.29K</td>\n",
              "      <td>0.40%</td>\n",
              "      <td>NaN</td>\n",
              "      <td>NaN</td>\n",
              "      <td>NaN</td>\n",
              "      <td>NaN</td>\n",
              "      <td>NaN</td>\n",
              "      <td>NaN</td>\n",
              "      <td>NaN</td>\n",
              "      <td>NaN</td>\n",
              "    </tr>\n",
              "    <tr>\n",
              "      <th>4</th>\n",
              "      <td>8-Jan-21</td>\n",
              "      <td>52.24</td>\n",
              "      <td>50.93</td>\n",
              "      <td>52.75</td>\n",
              "      <td>50.81</td>\n",
              "      <td>499.42K</td>\n",
              "      <td>2.77%</td>\n",
              "      <td>NaN</td>\n",
              "      <td>NaN</td>\n",
              "      <td>NaN</td>\n",
              "      <td>NaN</td>\n",
              "      <td>NaN</td>\n",
              "      <td>NaN</td>\n",
              "      <td>NaN</td>\n",
              "      <td>NaN</td>\n",
              "    </tr>\n",
              "  </tbody>\n",
              "</table>\n",
              "</div>\n",
              "      <button class=\"colab-df-convert\" onclick=\"convertToInteractive('df-911214f7-d768-4a1e-8e17-a74977e2a63e')\"\n",
              "              title=\"Convert this dataframe to an interactive table.\"\n",
              "              style=\"display:none;\">\n",
              "        \n",
              "  <svg xmlns=\"http://www.w3.org/2000/svg\" height=\"24px\"viewBox=\"0 0 24 24\"\n",
              "       width=\"24px\">\n",
              "    <path d=\"M0 0h24v24H0V0z\" fill=\"none\"/>\n",
              "    <path d=\"M18.56 5.44l.94 2.06.94-2.06 2.06-.94-2.06-.94-.94-2.06-.94 2.06-2.06.94zm-11 1L8.5 8.5l.94-2.06 2.06-.94-2.06-.94L8.5 2.5l-.94 2.06-2.06.94zm10 10l.94 2.06.94-2.06 2.06-.94-2.06-.94-.94-2.06-.94 2.06-2.06.94z\"/><path d=\"M17.41 7.96l-1.37-1.37c-.4-.4-.92-.59-1.43-.59-.52 0-1.04.2-1.43.59L10.3 9.45l-7.72 7.72c-.78.78-.78 2.05 0 2.83L4 21.41c.39.39.9.59 1.41.59.51 0 1.02-.2 1.41-.59l7.78-7.78 2.81-2.81c.8-.78.8-2.07 0-2.86zM5.41 20L4 18.59l7.72-7.72 1.47 1.35L5.41 20z\"/>\n",
              "  </svg>\n",
              "      </button>\n",
              "      \n",
              "  <style>\n",
              "    .colab-df-container {\n",
              "      display:flex;\n",
              "      flex-wrap:wrap;\n",
              "      gap: 12px;\n",
              "    }\n",
              "\n",
              "    .colab-df-convert {\n",
              "      background-color: #E8F0FE;\n",
              "      border: none;\n",
              "      border-radius: 50%;\n",
              "      cursor: pointer;\n",
              "      display: none;\n",
              "      fill: #1967D2;\n",
              "      height: 32px;\n",
              "      padding: 0 0 0 0;\n",
              "      width: 32px;\n",
              "    }\n",
              "\n",
              "    .colab-df-convert:hover {\n",
              "      background-color: #E2EBFA;\n",
              "      box-shadow: 0px 1px 2px rgba(60, 64, 67, 0.3), 0px 1px 3px 1px rgba(60, 64, 67, 0.15);\n",
              "      fill: #174EA6;\n",
              "    }\n",
              "\n",
              "    [theme=dark] .colab-df-convert {\n",
              "      background-color: #3B4455;\n",
              "      fill: #D2E3FC;\n",
              "    }\n",
              "\n",
              "    [theme=dark] .colab-df-convert:hover {\n",
              "      background-color: #434B5C;\n",
              "      box-shadow: 0px 1px 3px 1px rgba(0, 0, 0, 0.15);\n",
              "      filter: drop-shadow(0px 1px 2px rgba(0, 0, 0, 0.3));\n",
              "      fill: #FFFFFF;\n",
              "    }\n",
              "  </style>\n",
              "\n",
              "      <script>\n",
              "        const buttonEl =\n",
              "          document.querySelector('#df-911214f7-d768-4a1e-8e17-a74977e2a63e button.colab-df-convert');\n",
              "        buttonEl.style.display =\n",
              "          google.colab.kernel.accessAllowed ? 'block' : 'none';\n",
              "\n",
              "        async function convertToInteractive(key) {\n",
              "          const element = document.querySelector('#df-911214f7-d768-4a1e-8e17-a74977e2a63e');\n",
              "          const dataTable =\n",
              "            await google.colab.kernel.invokeFunction('convertToInteractive',\n",
              "                                                     [key], {});\n",
              "          if (!dataTable) return;\n",
              "\n",
              "          const docLinkHtml = 'Like what you see? Visit the ' +\n",
              "            '<a target=\"_blank\" href=https://colab.research.google.com/notebooks/data_table.ipynb>data table notebook</a>'\n",
              "            + ' to learn more about interactive tables.';\n",
              "          element.innerHTML = '';\n",
              "          dataTable['output_type'] = 'display_data';\n",
              "          await google.colab.output.renderOutput(dataTable, element);\n",
              "          const docLink = document.createElement('div');\n",
              "          docLink.innerHTML = docLinkHtml;\n",
              "          element.appendChild(docLink);\n",
              "        }\n",
              "      </script>\n",
              "    </div>\n",
              "  </div>\n",
              "  "
            ]
          },
          "metadata": {},
          "execution_count": 18
        }
      ]
    },
    {
      "cell_type": "code",
      "source": [
        "len(df)\n"
      ],
      "metadata": {
        "colab": {
          "base_uri": "https://localhost:8080/"
        },
        "id": "Sg4NvG4VxoO8",
        "outputId": "3db432e9-190d-445f-8bef-eab176f657c1"
      },
      "execution_count": null,
      "outputs": [
        {
          "output_type": "execute_result",
          "data": {
            "text/plain": [
              "505"
            ]
          },
          "metadata": {},
          "execution_count": 19
        }
      ]
    },
    {
      "cell_type": "code",
      "source": [
        "opn = df[['Price']]\n"
      ],
      "metadata": {
        "id": "mfPwDBJ0xoSN"
      },
      "execution_count": null,
      "outputs": []
    },
    {
      "cell_type": "code",
      "source": [
        "opn.plot()\n"
      ],
      "metadata": {
        "colab": {
          "base_uri": "https://localhost:8080/",
          "height": 282
        },
        "id": "OMM64cVlxoUP",
        "outputId": "dbe633ec-1908-4c71-e6c4-a83da8f13f44"
      },
      "execution_count": null,
      "outputs": [
        {
          "output_type": "execute_result",
          "data": {
            "text/plain": [
              "<matplotlib.axes._subplots.AxesSubplot at 0x7eff3ccf7fd0>"
            ]
          },
          "metadata": {},
          "execution_count": 21
        },
        {
          "output_type": "display_data",
          "data": {
            "text/plain": [
              "<Figure size 432x288 with 1 Axes>"
            ],
            "image/png": "[encoded data removed]"
          },
          "metadata": {
            "needs_background": "light"
          }
        }
      ]
    },
    {
      "cell_type": "code",
      "source": [
        "ds = opn.values\n"
      ],
      "metadata": {
        "id": "-b90CtPsxoYb"
      },
      "execution_count": null,
      "outputs": []
    },
    {
      "cell_type": "code",
      "source": [
        "ds\n"
      ],
      "metadata": {
        "id": "-4fe2q3GxoaD"
      },
      "execution_count": null,
      "outputs": []
    },
    {
      "cell_type": "code",
      "source": [
        "normalizer = MinMaxScaler(feature_range=(0,1))\n",
        "ds_scaled = normalizer.fit_transform(np.array(ds).reshape(-1,1))"
      ],
      "metadata": {
        "id": "YEFfHXssxocs"
      },
      "execution_count": null,
      "outputs": []
    },
    {
      "cell_type": "code",
      "source": [
        "len(ds_scaled), len(ds)\n"
      ],
      "metadata": {
        "colab": {
          "base_uri": "https://localhost:8080/"
        },
        "id": "OcIst4wwxoeg",
        "outputId": "1d6ab94b-16f3-4e20-9b6b-db780dade810"
      },
      "execution_count": null,
      "outputs": [
        {
          "output_type": "execute_result",
          "data": {
            "text/plain": [
              "(505, 505)"
            ]
          },
          "metadata": {},
          "execution_count": 26
        }
      ]
    },
    {
      "cell_type": "code",
      "source": [
        "train_size = int(len(ds_scaled)*0.70)\n",
        "test_size = len(ds_scaled) - train_size"
      ],
      "metadata": {
        "id": "wlDj5ArExoig"
      },
      "execution_count": null,
      "outputs": []
    },
    {
      "cell_type": "code",
      "source": [
        "ds_train, ds_test = ds_scaled[0:train_size,:], ds_scaled[train_size:len(ds_scaled),:1]\n"
      ],
      "metadata": {
        "id": "Dq2AytRrxokg"
      },
      "execution_count": null,
      "outputs": []
    },
    {
      "cell_type": "code",
      "source": [
        "len(ds_train),len(ds_test)\n"
      ],
      "metadata": {
        "colab": {
          "base_uri": "https://localhost:8080/"
        },
        "id": "x8310YWHxooa",
        "outputId": "e1150e69-3be7-4f2c-e808-0911372d7b15"
      },
      "execution_count": null,
      "outputs": [
        {
          "output_type": "execute_result",
          "data": {
            "text/plain": [
              "(353, 152)"
            ]
          },
          "metadata": {},
          "execution_count": 29
        }
      ]
    },
    {
      "cell_type": "code",
      "source": [
        "def create_ds(dataset,step):\n",
        "    Xtrain, Ytrain = [], []\n",
        "    for i in range(len(dataset)-step-1):\n",
        "        a = dataset[i:(i+step), 0]\n",
        "        Xtrain.append(a)\n",
        "        Ytrain.append(dataset[i + step, 0])\n",
        "    return np.array(Xtrain), np.array(Ytrain)"
      ],
      "metadata": {
        "id": "R9Za0jEtxoxm"
      },
      "execution_count": null,
      "outputs": []
    },
    {
      "cell_type": "code",
      "source": [
        "time_stamp = 100\n",
        "X_train, y_train = create_ds(ds_train,time_stamp)\n",
        "X_test, y_test = create_ds(ds_test,time_stamp)"
      ],
      "metadata": {
        "id": "4UWaxUe-zbiy"
      },
      "execution_count": null,
      "outputs": []
    },
    {
      "cell_type": "code",
      "source": [
        "X_train.shape,y_train.shape\n"
      ],
      "metadata": {
        "colab": {
          "base_uri": "https://localhost:8080/"
        },
        "id": "UafQWhgKzhm7",
        "outputId": "80dd1796-634f-4f90-ebe8-7fd875783185"
      },
      "execution_count": null,
      "outputs": [
        {
          "output_type": "execute_result",
          "data": {
            "text/plain": [
              "((252, 100), (252,))"
            ]
          },
          "metadata": {},
          "execution_count": 32
        }
      ]
    },
    {
      "cell_type": "code",
      "source": [
        "X_test.shape, y_test.shape\n"
      ],
      "metadata": {
        "colab": {
          "base_uri": "https://localhost:8080/"
        },
        "id": "p1u6aLVwzh0j",
        "outputId": "9cbf3f8d-0061-441b-ad13-02d648db000a"
      },
      "execution_count": null,
      "outputs": [
        {
          "output_type": "execute_result",
          "data": {
            "text/plain": [
              "((51, 100), (51,))"
            ]
          },
          "metadata": {},
          "execution_count": 33
        }
      ]
    },
    {
      "cell_type": "code",
      "source": [
        "X_train = X_train.reshape(X_train.shape[0],X_train.shape[1] , 1)\n",
        "X_test = X_test.reshape(X_test.shape[0],X_test.shape[1] , 1)"
      ],
      "metadata": {
        "id": "8-97Q0Dnzk7Q"
      },
      "execution_count": null,
      "outputs": []
    },
    {
      "cell_type": "code",
      "source": [
        "model = Sequential()\n",
        "model.add(LSTM(units=50,return_sequences=True,input_shape=(X_train.shape[1],1)))\n",
        "model.add(LSTM(units=50,return_sequences=True))\n",
        "model.add(LSTM(units=50))\n",
        "model.add(Dense(units=1,activation='linear'))\n",
        "model.summary()"
      ],
      "metadata": {
        "colab": {
          "base_uri": "https://localhost:8080/"
        },
        "id": "KTfe3QDuzsxk",
        "outputId": "4f7d5357-14a1-4664-f11a-f20d2b390b28"
      },
      "execution_count": null,
      "outputs": [
        {
          "output_type": "stream",
          "name": "stdout",
          "text": [
            "Model: \"sequential\"\n",
            "_________________________________________________________________\n",
            " Layer (type)                Output Shape              Param #   \n",
            "=================================================================\n",
            " lstm (LSTM)                 (None, 100, 50)           10400     \n",
            "                                                                 \n",
            " lstm_1 (LSTM)               (None, 100, 50)           20200     \n",
            "                                                                 \n",
            " lstm_2 (LSTM)               (None, 50)                20200     \n",
            "                                                                 \n",
            " dense (Dense)               (None, 1)                 51        \n",
            "                                                                 \n",
            "=================================================================\n",
            "Total params: 50,851\n",
            "Trainable params: 50,851\n",
            "Non-trainable params: 0\n",
            "_________________________________________________________________\n"
          ]
        }
      ]
    },
    {
      "cell_type": "code",
      "source": [
        "model.compile(loss='mean_squared_error',optimizer='adam')\n",
        "model.fit(X_train,y_train,validation_data=(X_test,y_test),epochs=100,batch_size=64)"
      ],
      "metadata": {
        "colab": {
          "base_uri": "https://localhost:8080/"
        },
        "id": "y1cPCDzyzxzh",
        "outputId": "f2545fda-74b1-4e0e-8d05-e4b05d4a778f"
      },
      "execution_count": null,
      "outputs": [
        {
          "output_type": "stream",
          "name": "stdout",
          "text": [
            "Epoch 1/100\n",
            "4/4 [==============================] - 10s 667ms/step - loss: 0.1471 - val_loss: 0.0206\n",
            "Epoch 2/100\n",
            "4/4 [==============================] - 1s 218ms/step - loss: 0.0262 - val_loss: 0.0524\n",
            "Epoch 3/100\n",
            "4/4 [==============================] - 1s 212ms/step - loss: 0.0166 - val_loss: 0.0049\n",
            "Epoch 4/100\n",
            "4/4 [==============================] - 1s 209ms/step - loss: 0.0157 - val_loss: 0.0108\n",
            "Epoch 5/100\n",
            "4/4 [==============================] - 1s 203ms/step - loss: 0.0143 - val_loss: 0.0038\n",
            "Epoch 6/100\n",
            "4/4 [==============================] - 2s 402ms/step - loss: 0.0088 - val_loss: 0.0136\n",
            "Epoch 7/100\n",
            "4/4 [==============================] - 2s 412ms/step - loss: 0.0101 - val_loss: 0.0069\n",
            "Epoch 8/100\n",
            "4/4 [==============================] - 2s 425ms/step - loss: 0.0069 - val_loss: 0.0038\n",
            "Epoch 9/100\n",
            "4/4 [==============================] - 2s 412ms/step - loss: 0.0076 - val_loss: 0.0038\n",
            "Epoch 10/100\n",
            "4/4 [==============================] - 2s 425ms/step - loss: 0.0063 - val_loss: 0.0058\n",
            "Epoch 11/100\n",
            "4/4 [==============================] - 2s 598ms/step - loss: 0.0061 - val_loss: 0.0075\n",
            "Epoch 12/100\n",
            "4/4 [==============================] - 3s 652ms/step - loss: 0.0058 - val_loss: 0.0046\n",
            "Epoch 13/100\n",
            "4/4 [==============================] - 3s 842ms/step - loss: 0.0054 - val_loss: 0.0043\n",
            "Epoch 14/100\n",
            "4/4 [==============================] - 3s 697ms/step - loss: 0.0052 - val_loss: 0.0054\n",
            "Epoch 15/100\n",
            "4/4 [==============================] - 2s 539ms/step - loss: 0.0051 - val_loss: 0.0059\n",
            "Epoch 16/100\n",
            "4/4 [==============================] - 2s 419ms/step - loss: 0.0049 - val_loss: 0.0046\n",
            "Epoch 17/100\n",
            "4/4 [==============================] - 2s 518ms/step - loss: 0.0049 - val_loss: 0.0047\n",
            "Epoch 18/100\n",
            "4/4 [==============================] - 1s 322ms/step - loss: 0.0048 - val_loss: 0.0055\n",
            "Epoch 19/100\n",
            "4/4 [==============================] - 2s 394ms/step - loss: 0.0048 - val_loss: 0.0053\n",
            "Epoch 20/100\n",
            "4/4 [==============================] - 1s 211ms/step - loss: 0.0047 - val_loss: 0.0045\n",
            "Epoch 21/100\n",
            "4/4 [==============================] - 1s 212ms/step - loss: 0.0047 - val_loss: 0.0048\n",
            "Epoch 22/100\n",
            "4/4 [==============================] - 1s 210ms/step - loss: 0.0047 - val_loss: 0.0051\n",
            "Epoch 23/100\n",
            "4/4 [==============================] - 1s 205ms/step - loss: 0.0048 - val_loss: 0.0043\n",
            "Epoch 24/100\n",
            "4/4 [==============================] - 1s 207ms/step - loss: 0.0045 - val_loss: 0.0054\n",
            "Epoch 25/100\n",
            "4/4 [==============================] - 1s 221ms/step - loss: 0.0045 - val_loss: 0.0047\n",
            "Epoch 26/100\n",
            "4/4 [==============================] - 1s 210ms/step - loss: 0.0044 - val_loss: 0.0046\n",
            "Epoch 27/100\n",
            "4/4 [==============================] - 1s 209ms/step - loss: 0.0044 - val_loss: 0.0045\n",
            "Epoch 28/100\n",
            "4/4 [==============================] - 1s 206ms/step - loss: 0.0043 - val_loss: 0.0046\n",
            "Epoch 29/100\n",
            "4/4 [==============================] - 1s 215ms/step - loss: 0.0043 - val_loss: 0.0047\n",
            "Epoch 30/100\n",
            "4/4 [==============================] - 1s 219ms/step - loss: 0.0044 - val_loss: 0.0041\n",
            "Epoch 31/100\n",
            "4/4 [==============================] - 1s 207ms/step - loss: 0.0044 - val_loss: 0.0054\n",
            "Epoch 32/100\n",
            "4/4 [==============================] - 1s 219ms/step - loss: 0.0040 - val_loss: 0.0040\n",
            "Epoch 33/100\n",
            "4/4 [==============================] - 1s 210ms/step - loss: 0.0044 - val_loss: 0.0049\n",
            "Epoch 34/100\n",
            "4/4 [==============================] - 1s 205ms/step - loss: 0.0041 - val_loss: 0.0044\n",
            "Epoch 35/100\n",
            "4/4 [==============================] - 1s 211ms/step - loss: 0.0043 - val_loss: 0.0045\n",
            "Epoch 36/100\n",
            "4/4 [==============================] - 1s 212ms/step - loss: 0.0041 - val_loss: 0.0045\n",
            "Epoch 37/100\n",
            "4/4 [==============================] - 1s 211ms/step - loss: 0.0043 - val_loss: 0.0042\n",
            "Epoch 38/100\n",
            "4/4 [==============================] - 1s 216ms/step - loss: 0.0040 - val_loss: 0.0048\n",
            "Epoch 39/100\n",
            "4/4 [==============================] - 1s 206ms/step - loss: 0.0039 - val_loss: 0.0040\n",
            "Epoch 40/100\n",
            "4/4 [==============================] - 1s 209ms/step - loss: 0.0043 - val_loss: 0.0054\n",
            "Epoch 41/100\n",
            "4/4 [==============================] - 1s 211ms/step - loss: 0.0040 - val_loss: 0.0040\n",
            "Epoch 42/100\n",
            "4/4 [==============================] - 1s 213ms/step - loss: 0.0040 - val_loss: 0.0043\n",
            "Epoch 43/100\n",
            "4/4 [==============================] - 1s 209ms/step - loss: 0.0039 - val_loss: 0.0045\n",
            "Epoch 44/100\n",
            "4/4 [==============================] - 1s 206ms/step - loss: 0.0041 - val_loss: 0.0043\n",
            "Epoch 45/100\n",
            "4/4 [==============================] - 1s 213ms/step - loss: 0.0040 - val_loss: 0.0046\n",
            "Epoch 46/100\n",
            "4/4 [==============================] - 1s 208ms/step - loss: 0.0037 - val_loss: 0.0040\n",
            "Epoch 47/100\n",
            "4/4 [==============================] - 1s 206ms/step - loss: 0.0039 - val_loss: 0.0047\n",
            "Epoch 48/100\n",
            "4/4 [==============================] - 1s 206ms/step - loss: 0.0037 - val_loss: 0.0042\n",
            "Epoch 49/100\n",
            "4/4 [==============================] - 1s 207ms/step - loss: 0.0038 - val_loss: 0.0041\n",
            "Epoch 50/100\n",
            "4/4 [==============================] - 1s 208ms/step - loss: 0.0038 - val_loss: 0.0045\n",
            "Epoch 51/100\n",
            "4/4 [==============================] - 1s 214ms/step - loss: 0.0038 - val_loss: 0.0044\n",
            "Epoch 52/100\n",
            "4/4 [==============================] - 1s 210ms/step - loss: 0.0037 - val_loss: 0.0041\n",
            "Epoch 53/100\n",
            "4/4 [==============================] - 1s 203ms/step - loss: 0.0037 - val_loss: 0.0047\n",
            "Epoch 54/100\n",
            "4/4 [==============================] - 1s 378ms/step - loss: 0.0037 - val_loss: 0.0042\n",
            "Epoch 55/100\n",
            "4/4 [==============================] - 2s 479ms/step - loss: 0.0036 - val_loss: 0.0049\n",
            "Epoch 56/100\n",
            "4/4 [==============================] - 2s 459ms/step - loss: 0.0040 - val_loss: 0.0039\n",
            "Epoch 57/100\n",
            "4/4 [==============================] - 2s 430ms/step - loss: 0.0039 - val_loss: 0.0052\n",
            "Epoch 58/100\n",
            "4/4 [==============================] - 2s 408ms/step - loss: 0.0038 - val_loss: 0.0041\n",
            "Epoch 59/100\n",
            "4/4 [==============================] - 2s 420ms/step - loss: 0.0038 - val_loss: 0.0048\n",
            "Epoch 60/100\n",
            "4/4 [==============================] - 1s 361ms/step - loss: 0.0036 - val_loss: 0.0045\n",
            "Epoch 61/100\n",
            "4/4 [==============================] - 2s 405ms/step - loss: 0.0037 - val_loss: 0.0040\n",
            "Epoch 62/100\n",
            "4/4 [==============================] - 2s 527ms/step - loss: 0.0036 - val_loss: 0.0049\n",
            "Epoch 63/100\n",
            "4/4 [==============================] - 4s 1s/step - loss: 0.0037 - val_loss: 0.0042\n",
            "Epoch 64/100\n",
            "4/4 [==============================] - 2s 406ms/step - loss: 0.0036 - val_loss: 0.0045\n",
            "Epoch 65/100\n",
            "4/4 [==============================] - 1s 343ms/step - loss: 0.0035 - val_loss: 0.0041\n",
            "Epoch 66/100\n",
            "4/4 [==============================] - 2s 427ms/step - loss: 0.0035 - val_loss: 0.0045\n",
            "Epoch 67/100\n",
            "4/4 [==============================] - 2s 461ms/step - loss: 0.0035 - val_loss: 0.0042\n",
            "Epoch 68/100\n",
            "4/4 [==============================] - 1s 266ms/step - loss: 0.0036 - val_loss: 0.0047\n",
            "Epoch 69/100\n",
            "4/4 [==============================] - 1s 207ms/step - loss: 0.0036 - val_loss: 0.0044\n",
            "Epoch 70/100\n",
            "4/4 [==============================] - 1s 210ms/step - loss: 0.0037 - val_loss: 0.0042\n",
            "Epoch 71/100\n",
            "4/4 [==============================] - 1s 211ms/step - loss: 0.0035 - val_loss: 0.0045\n",
            "Epoch 72/100\n",
            "4/4 [==============================] - 1s 208ms/step - loss: 0.0035 - val_loss: 0.0041\n",
            "Epoch 73/100\n",
            "4/4 [==============================] - 1s 209ms/step - loss: 0.0036 - val_loss: 0.0046\n",
            "Epoch 74/100\n",
            "4/4 [==============================] - 1s 207ms/step - loss: 0.0035 - val_loss: 0.0043\n",
            "Epoch 75/100\n",
            "4/4 [==============================] - 1s 207ms/step - loss: 0.0036 - val_loss: 0.0044\n",
            "Epoch 76/100\n",
            "4/4 [==============================] - 1s 211ms/step - loss: 0.0037 - val_loss: 0.0043\n",
            "Epoch 77/100\n",
            "4/4 [==============================] - 1s 213ms/step - loss: 0.0036 - val_loss: 0.0049\n",
            "Epoch 78/100\n",
            "4/4 [==============================] - 1s 209ms/step - loss: 0.0035 - val_loss: 0.0040\n",
            "Epoch 79/100\n",
            "4/4 [==============================] - 1s 210ms/step - loss: 0.0034 - val_loss: 0.0060\n",
            "Epoch 80/100\n",
            "4/4 [==============================] - 1s 208ms/step - loss: 0.0034 - val_loss: 0.0039\n",
            "Epoch 81/100\n",
            "4/4 [==============================] - 1s 211ms/step - loss: 0.0034 - val_loss: 0.0053\n",
            "Epoch 82/100\n",
            "4/4 [==============================] - 1s 210ms/step - loss: 0.0033 - val_loss: 0.0042\n",
            "Epoch 83/100\n",
            "4/4 [==============================] - 1s 212ms/step - loss: 0.0033 - val_loss: 0.0051\n",
            "Epoch 84/100\n",
            "4/4 [==============================] - 1s 211ms/step - loss: 0.0034 - val_loss: 0.0041\n",
            "Epoch 85/100\n",
            "4/4 [==============================] - 1s 207ms/step - loss: 0.0035 - val_loss: 0.0047\n",
            "Epoch 86/100\n",
            "4/4 [==============================] - 1s 214ms/step - loss: 0.0035 - val_loss: 0.0046\n",
            "Epoch 87/100\n",
            "4/4 [==============================] - 1s 207ms/step - loss: 0.0032 - val_loss: 0.0040\n",
            "Epoch 88/100\n",
            "4/4 [==============================] - 1s 213ms/step - loss: 0.0032 - val_loss: 0.0056\n",
            "Epoch 89/100\n",
            "4/4 [==============================] - 1s 208ms/step - loss: 0.0035 - val_loss: 0.0040\n",
            "Epoch 90/100\n",
            "4/4 [==============================] - 1s 210ms/step - loss: 0.0035 - val_loss: 0.0052\n",
            "Epoch 91/100\n",
            "4/4 [==============================] - 1s 216ms/step - loss: 0.0032 - val_loss: 0.0044\n",
            "Epoch 92/100\n",
            "4/4 [==============================] - 1s 216ms/step - loss: 0.0031 - val_loss: 0.0047\n",
            "Epoch 93/100\n",
            "4/4 [==============================] - 1s 215ms/step - loss: 0.0032 - val_loss: 0.0043\n",
            "Epoch 94/100\n",
            "4/4 [==============================] - 1s 207ms/step - loss: 0.0031 - val_loss: 0.0046\n",
            "Epoch 95/100\n",
            "4/4 [==============================] - 1s 205ms/step - loss: 0.0031 - val_loss: 0.0049\n",
            "Epoch 96/100\n",
            "4/4 [==============================] - 1s 210ms/step - loss: 0.0032 - val_loss: 0.0043\n",
            "Epoch 97/100\n",
            "4/4 [==============================] - 1s 217ms/step - loss: 0.0031 - val_loss: 0.0045\n",
            "Epoch 98/100\n",
            "4/4 [==============================] - 1s 217ms/step - loss: 0.0030 - val_loss: 0.0051\n",
            "Epoch 99/100\n",
            "4/4 [==============================] - 1s 210ms/step - loss: 0.0030 - val_loss: 0.0043\n",
            "Epoch 100/100\n",
            "4/4 [==============================] - 1s 207ms/step - loss: 0.0031 - val_loss: 0.0048\n"
          ]
        },
        {
          "output_type": "execute_result",
          "data": {
            "text/plain": [
              "<keras.callbacks.History at 0x7efed9e7b910>"
            ]
          },
          "metadata": {},
          "execution_count": 37
        }
      ]
    },
    {
      "cell_type": "code",
      "source": [
        "loss = model.history.history['loss']\n",
        "plt.plot(loss)"
      ],
      "metadata": {
        "colab": {
          "base_uri": "https://localhost:8080/",
          "height": 282
        },
        "id": "cUST9GB9z1ZZ",
        "outputId": "5498355c-03ea-4c5e-e45d-3f3fa0a6b10f"
      },
      "execution_count": null,
      "outputs": [
        {
          "output_type": "execute_result",
          "data": {
            "text/plain": [
              "[<matplotlib.lines.Line2D at 0x7efed34d5220>]"
            ]
          },
          "metadata": {},
          "execution_count": 38
        },
        {
          "output_type": "display_data",
          "data": {
            "text/plain": [
              "<Figure size 432x288 with 1 Axes>"
            ],
            "image/png": "[encoded data removed]"
          },
          "metadata": {
            "needs_background": "light"
          }
        }
      ]
    },
    {
      "cell_type": "code",
      "source": [
        "train_predict = model.predict(X_train)\n",
        "test_predict = model.predict(X_test)"
      ],
      "metadata": {
        "colab": {
          "base_uri": "https://localhost:8080/"
        },
        "id": "8Ixzl7cTz7UR",
        "outputId": "c0e2c4c9-41ea-4b57-a4ba-a08d4ff68b06"
      },
      "execution_count": null,
      "outputs": [
        {
          "output_type": "stream",
          "name": "stdout",
          "text": [
            "8/8 [==============================] - 2s 39ms/step\n",
            "2/2 [==============================] - 0s 33ms/step\n"
          ]
        }
      ]
    },
    {
      "cell_type": "code",
      "source": [
        "train_predict = normalizer.inverse_transform(train_predict)\n",
        "test_predict = normalizer.inverse_transform(test_predict)"
      ],
      "metadata": {
        "id": "o64w9bxv0ECC"
      },
      "execution_count": null,
      "outputs": []
    },
    {
      "cell_type": "code",
      "source": [
        "plt.plot(normalizer.inverse_transform(ds_scaled))\n",
        "plt.plot(train_predict)\n",
        "plt.plot(test_predict)"
      ],
      "metadata": {
        "colab": {
          "base_uri": "https://localhost:8080/",
          "height": 282
        },
        "id": "8sm4az0V0E1h",
        "outputId": "57228661-1e84-49a9-f655-5c6f0c612d5f"
      },
      "execution_count": null,
      "outputs": [
        {
          "output_type": "execute_result",
          "data": {
            "text/plain": [
              "[<matplotlib.lines.Line2D at 0x7efed9b53fd0>]"
            ]
          },
          "metadata": {},
          "execution_count": 41
        },
        {
          "output_type": "display_data",
          "data": {
            "text/plain": [
              "<Figure size 432x288 with 1 Axes>"
            ],
            "image/png": "[encoded data removed]"
          },
          "metadata": {
            "needs_background": "light"
          }
        }
      ]
    },
    {
      "cell_type": "code",
      "source": [
        "type(train_predict)\n"
      ],
      "metadata": {
        "colab": {
          "base_uri": "https://localhost:8080/"
        },
        "id": "nActnu3h0YyK",
        "outputId": "af0ad7ba-20ab-4906-d7b4-38feedcc406b"
      },
      "execution_count": null,
      "outputs": [
        {
          "output_type": "execute_result",
          "data": {
            "text/plain": [
              "numpy.ndarray"
            ]
          },
          "metadata": {},
          "execution_count": 42
        }
      ]
    },
    {
      "cell_type": "code",
      "source": [
        "test = np.vstack((train_predict,test_predict))\n"
      ],
      "metadata": {
        "id": "ItpsYJId0dN2"
      },
      "execution_count": null,
      "outputs": []
    },
    {
      "cell_type": "code",
      "source": [
        "plt.plot(normalizer.inverse_transform(ds_scaled))\n",
        "plt.plot(test)"
      ],
      "metadata": {
        "colab": {
          "base_uri": "https://localhost:8080/",
          "height": 282
        },
        "id": "H-nY67jO0eMe",
        "outputId": "3ba86068-cfe3-44a3-dbb7-38bab3923ab1"
      },
      "execution_count": null,
      "outputs": [
        {
          "output_type": "execute_result",
          "data": {
            "text/plain": [
              "[<matplotlib.lines.Line2D at 0x7efed9b2e340>]"
            ]
          },
          "metadata": {},
          "execution_count": 44
        },
        {
          "output_type": "display_data",
          "data": {
            "text/plain": [
              "<Figure size 432x288 with 1 Axes>"
            ],
            "image/png": "[encoded data removed]"
          },
          "metadata": {
            "needs_background": "light"
          }
        }
      ]
    },
    {
      "cell_type": "code",
      "source": [
        "len(ds_test)\n"
      ],
      "metadata": {
        "colab": {
          "base_uri": "https://localhost:8080/"
        },
        "id": "mz43JKF10kRU",
        "outputId": "c28e6bbc-9b95-4880-b199-93c4927efe5d"
      },
      "execution_count": null,
      "outputs": [
        {
          "output_type": "execute_result",
          "data": {
            "text/plain": [
              "152"
            ]
          },
          "metadata": {},
          "execution_count": 45
        }
      ]
    },
    {
      "cell_type": "code",
      "source": [
        "fut_inp = ds_test[52:]\n"
      ],
      "metadata": {
        "id": "0t32XQ3b0nYQ"
      },
      "execution_count": null,
      "outputs": []
    },
    {
      "cell_type": "code",
      "source": [
        "fut_inp = fut_inp.reshape(1,-1)\n"
      ],
      "metadata": {
        "id": "kcsakdtY0rk7"
      },
      "execution_count": null,
      "outputs": []
    },
    {
      "cell_type": "code",
      "source": [
        "tmp_inp = list(fut_inp)\n"
      ],
      "metadata": {
        "id": "IHfvtQPP0tFs"
      },
      "execution_count": null,
      "outputs": []
    },
    {
      "cell_type": "code",
      "source": [
        "fut_inp.shape\n"
      ],
      "metadata": {
        "colab": {
          "base_uri": "https://localhost:8080/"
        },
        "id": "K-j-8_nd0w1V",
        "outputId": "e27597de-0651-4c2f-8165-cd5bacebd689"
      },
      "execution_count": null,
      "outputs": [
        {
          "output_type": "execute_result",
          "data": {
            "text/plain": [
              "(1, 100)"
            ]
          },
          "metadata": {},
          "execution_count": 49
        }
      ]
    },
    {
      "cell_type": "code",
      "source": [
        "tmp_inp = tmp_inp[0].tolist()\n"
      ],
      "metadata": {
        "id": "dZp3Tshj0x0L"
      },
      "execution_count": null,
      "outputs": []
    },
    {
      "cell_type": "code",
      "source": [
        "lst_output=[]\n",
        "n_steps=100\n",
        "i=0\n",
        "while(i<30):\n",
        "    \n",
        "    if(len(tmp_inp)>100):\n",
        "        fut_inp = np.array(tmp_inp[1:])\n",
        "        fut_inp=fut_inp.reshape(1,-1)\n",
        "        fut_inp = fut_inp.reshape((1, n_steps, 1))\n",
        "        yhat = model.predict(fut_inp, verbose=0)\n",
        "        tmp_inp.extend(yhat[0].tolist())\n",
        "        tmp_inp = tmp_inp[1:]\n",
        "        lst_output.extend(yhat.tolist())\n",
        "        i=i+1\n",
        "    else:\n",
        "        fut_inp = fut_inp.reshape((1, n_steps,1))\n",
        "        yhat = model.predict(fut_inp, verbose=0)\n",
        "        tmp_inp.extend(yhat[0].tolist())\n",
        "        lst_output.extend(yhat.tolist())\n",
        "        i=i+1\n",
        "    \n",
        "\n",
        "print(lst_output)"
      ],
      "metadata": {
        "colab": {
          "base_uri": "https://localhost:8080/"
        },
        "id": "JVEUzvmi0zzH",
        "outputId": "c8b06c65-5f8d-4d5b-afc7-652a8755df2a"
      },
      "execution_count": null,
      "outputs": [
        {
          "output_type": "stream",
          "name": "stdout",
          "text": [
            "[[0.569769024848938], [0.5742611289024353], [0.5787873268127441], [0.5833408236503601], [0.5879150032997131], [0.5925017595291138], [0.5970936417579651], [0.6016830801963806], [0.606261670589447], [0.6108213663101196], [0.6153551936149597], [0.6198541522026062], [0.6243112683296204], [0.6287189722061157], [0.6330708265304565], [0.6373597383499146], [0.6415801048278809], [0.6457267999649048], [0.6497942805290222], [0.6537786722183228], [0.657676100730896], [0.6614838242530823], [0.665198802947998], [0.668819785118103], [0.6723448634147644], [0.675773561000824], [0.6791056990623474], [0.6823410987854004], [0.6854802966117859], [0.6885247826576233]]\n",
            "30\n"
          ]
        }
      ]
    },
    {
      "cell_type": "code",
      "source": [
        "prices = normalizer.inverse_transform(lst_output).tolist()\n"
      ],
      "metadata": {
        "id": "sUY717oq1haX"
      },
      "execution_count": null,
      "outputs": []
    },
    {
      "cell_type": "code",
      "source": [
        "prices"
      ],
      "metadata": {
        "colab": {
          "base_uri": "https://localhost:8080/"
        },
        "id": "fMhRjmci1mDL",
        "outputId": "f8fafbb0-b43d-4cf6-98e8-7669e73fab9c"
      },
      "execution_count": null,
      "outputs": [
        {
          "output_type": "execute_result",
          "data": {
            "text/plain": [
              "[[90.9680274105072],\n",
              " [91.30978668689728],\n",
              " [91.65413982391358],\n",
              " [92.0005698633194],\n",
              " [92.34857345104218],\n",
              " [92.69753386497499],\n",
              " [93.04688426494599],\n",
              " [93.39604874134064],\n",
              " [93.74438789844514],\n",
              " [94.0912895488739],\n",
              " [94.43622313022614],\n",
              " [94.77850389957429],\n",
              " [95.11760129451753],\n",
              " [95.45293940544128],\n",
              " [95.78402848243714],\n",
              " [96.1103288936615],\n",
              " [96.43141437530518],\n",
              " [96.74689494132996],\n",
              " [97.05634886264802],\n",
              " [97.35948138237],\n",
              " [97.65599774360658],\n",
              " [97.9456893491745],\n",
              " [98.2283249282837],\n",
              " [98.50380925178528],\n",
              " [98.77199720859528],\n",
              " [99.0328525209427],\n",
              " [99.2863615846634],\n",
              " [99.53251079559327],\n",
              " [99.77134096622467],\n",
              " [100.00296546459198]]"
            ]
          },
          "metadata": {},
          "execution_count": 62
        }
      ]
    },
    {
      "cell_type": "code",
      "source": [
        "prices_array=np.array(prices)"
      ],
      "metadata": {
        "id": "5dAqbgC91nQD"
      },
      "execution_count": null,
      "outputs": []
    },
    {
      "cell_type": "code",
      "source": [
        "prices_array"
      ],
      "metadata": {
        "colab": {
          "base_uri": "https://localhost:8080/"
        },
        "id": "gLxJ1DWH2eEO",
        "outputId": "ae9b9968-3337-4485-9a70-1638df236039"
      },
      "execution_count": null,
      "outputs": [
        {
          "output_type": "execute_result",
          "data": {
            "text/plain": [
              "array([[ 90.96802741],\n",
              "       [ 91.30978669],\n",
              "       [ 91.65413982],\n",
              "       [ 92.00056986],\n",
              "       [ 92.34857345],\n",
              "       [ 92.69753386],\n",
              "       [ 93.04688426],\n",
              "       [ 93.39604874],\n",
              "       [ 93.7443879 ],\n",
              "       [ 94.09128955],\n",
              "       [ 94.43622313],\n",
              "       [ 94.7785039 ],\n",
              "       [ 95.11760129],\n",
              "       [ 95.45293941],\n",
              "       [ 95.78402848],\n",
              "       [ 96.11032889],\n",
              "       [ 96.43141438],\n",
              "       [ 96.74689494],\n",
              "       [ 97.05634886],\n",
              "       [ 97.35948138],\n",
              "       [ 97.65599774],\n",
              "       [ 97.94568935],\n",
              "       [ 98.22832493],\n",
              "       [ 98.50380925],\n",
              "       [ 98.77199721],\n",
              "       [ 99.03285252],\n",
              "       [ 99.28636158],\n",
              "       [ 99.5325108 ],\n",
              "       [ 99.77134097],\n",
              "       [100.00296546]])"
            ]
          },
          "metadata": {},
          "execution_count": 64
        }
      ]
    },
    {
      "cell_type": "code",
      "source": [
        "prices_arr= prices_array.flatten()\n"
      ],
      "metadata": {
        "id": "tD5JNzPq2qjW"
      },
      "execution_count": null,
      "outputs": []
    },
    {
      "cell_type": "code",
      "source": [
        "prices_arr"
      ],
      "metadata": {
        "colab": {
          "base_uri": "https://localhost:8080/"
        },
        "id": "fmgRYgJO2xIg",
        "outputId": "73bee85a-454e-4500-a6e1-d8c2f385a6fc"
      },
      "execution_count": null,
      "outputs": [
        {
          "output_type": "execute_result",
          "data": {
            "text/plain": [
              "array([ 90.96802741,  91.30978669,  91.65413982,  92.00056986,\n",
              "        92.34857345,  92.69753386,  93.04688426,  93.39604874,\n",
              "        93.7443879 ,  94.09128955,  94.43622313,  94.7785039 ,\n",
              "        95.11760129,  95.45293941,  95.78402848,  96.11032889,\n",
              "        96.43141438,  96.74689494,  97.05634886,  97.35948138,\n",
              "        97.65599774,  97.94568935,  98.22832493,  98.50380925,\n",
              "        98.77199721,  99.03285252,  99.28636158,  99.5325108 ,\n",
              "        99.77134097, 100.00296546])"
            ]
          },
          "metadata": {},
          "execution_count": 68
        }
      ]
    },
    {
      "cell_type": "code",
      "source": [
        "prices_df= pd.DataFrame(prices_arr, columns =[\"Price\"])\n"
      ],
      "metadata": {
        "id": "lUw6vxW625zk"
      },
      "execution_count": null,
      "outputs": []
    },
    {
      "cell_type": "code",
      "source": [
        "prices_df.to_csv('ass4_oil_price_prediction.csv', index=True)"
      ],
      "metadata": {
        "id": "YluHcQcn3W_E"
      },
      "execution_count": null,
      "outputs": []
    }
  ]
}